{
 "cells": [
  {
   "cell_type": "markdown",
   "metadata": {},
   "source": [
    "# Assingment 1 Day 3\n",
    "\n"
   ]
  },
  {
   "cell_type": "markdown",
   "metadata": {},
   "source": [
    "You all are pilots , you have to land a plane , the altitude for landing a plane is 1000ft, If it is less than that , tell the pilot to land the plane, or if its more than that but less than 5000ft as the pilot to turn down to 1000ft, elseif it is more than 5000ft as the pilot to turn around and try later."
   ]
  },
  {
   "cell_type": "code",
   "execution_count": 22,
   "metadata": {},
   "outputs": [
    {
     "name": "stdout",
     "output_type": "stream",
     "text": [
      "Land the plane\n"
     ]
    }
   ],
   "source": [
    "Alt = 1000\n",
    "if Alt <=1000:\n",
    "    print(\"Land the plane\")\n",
    "elif Alt <= 5000:\n",
    "    print(\"Turn around to 1000\")\n",
    "elif Alt > 5000:\n",
    "        print(\"Turn around and try later\")"
   ]
  },
  {
   "cell_type": "markdown",
   "metadata": {},
   "source": [
    "# Assignment 2 Day 3\n"
   ]
  },
  {
   "cell_type": "markdown",
   "metadata": {},
   "source": [
    "Using For loop please print all prime number between 1-200 using for loop and range function."
   ]
  },
  {
   "cell_type": "code",
   "execution_count": 32,
   "metadata": {},
   "outputs": [
    {
     "name": "stdout",
     "output_type": "stream",
     "text": [
      "2 is  prime number\n",
      "3 is  prime number\n",
      "5 is  prime number\n",
      "7 is  prime number\n",
      "11 is  prime number\n",
      "13 is  prime number\n",
      "17 is  prime number\n",
      "19 is  prime number\n",
      "23 is  prime number\n",
      "29 is  prime number\n",
      "31 is  prime number\n",
      "37 is  prime number\n",
      "41 is  prime number\n",
      "43 is  prime number\n",
      "47 is  prime number\n",
      "53 is  prime number\n",
      "59 is  prime number\n",
      "61 is  prime number\n",
      "67 is  prime number\n",
      "71 is  prime number\n",
      "73 is  prime number\n",
      "79 is  prime number\n",
      "83 is  prime number\n",
      "89 is  prime number\n",
      "97 is  prime number\n",
      "101 is  prime number\n",
      "103 is  prime number\n",
      "107 is  prime number\n",
      "109 is  prime number\n",
      "113 is  prime number\n",
      "127 is  prime number\n",
      "131 is  prime number\n",
      "137 is  prime number\n",
      "139 is  prime number\n",
      "149 is  prime number\n",
      "151 is  prime number\n",
      "157 is  prime number\n",
      "163 is  prime number\n",
      "167 is  prime number\n",
      "173 is  prime number\n",
      "179 is  prime number\n",
      "181 is  prime number\n",
      "191 is  prime number\n",
      "193 is  prime number\n",
      "197 is  prime number\n",
      "199 is  prime number\n"
     ]
    }
   ],
   "source": [
    "for item in range(1,200):\n",
    "    num = item\n",
    "    if num > 1:\n",
    "        for i in range(2,num):\n",
    "            if num%i == 0:\n",
    "                break\n",
    "        else:\n",
    "            print(item, \"is  prime number\")\n",
    "            \n",
    "            \n",
    "    "
   ]
  },
  {
   "cell_type": "code",
   "execution_count": null,
   "metadata": {},
   "outputs": [],
   "source": []
  }
 ],
 "metadata": {
  "kernelspec": {
   "display_name": "Python 3",
   "language": "python",
   "name": "python3"
  },
  "language_info": {
   "codemirror_mode": {
    "name": "ipython",
    "version": 3
   },
   "file_extension": ".py",
   "mimetype": "text/x-python",
   "name": "python",
   "nbconvert_exporter": "python",
   "pygments_lexer": "ipython3",
   "version": "3.7.6"
  }
 },
 "nbformat": 4,
 "nbformat_minor": 4
}
